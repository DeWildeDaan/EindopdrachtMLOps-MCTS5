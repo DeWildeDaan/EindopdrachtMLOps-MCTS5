{
 "cells": [
  {
   "cell_type": "code",
   "execution_count": 10,
   "metadata": {},
   "outputs": [],
   "source": [
    "from azureml.core import Run\n",
    "from azureml.core.authentication import ServicePrincipalAuthentication\n",
    "from azureml.core import Workspace\n",
    "from azureml.core import Experiment\n",
    "import os"
   ]
  },
  {
   "cell_type": "code",
   "execution_count": 4,
   "metadata": {},
   "outputs": [],
   "source": [
    "def connectWithAzure() -> Workspace:\n",
    "    \"\"\"\n",
    "        Method that will connect to Azure and return a Workspace\n",
    "    \"\"\"\n",
    "    tenant_id = os.environ.get(\"TENANT_ID\")\n",
    "    client_id = os.environ.get(\"CLIENT_ID\")\n",
    "    client_secret = os.environ.get(\"CLIENT_SECRET\")\n",
    "\n",
    "    # Service Principle Authentication to automate the login. Otherwise you'll have to login with your own user account.\n",
    "    # Get these parameters from the Azure Portal / Azure CLI\n",
    "    spa = ServicePrincipalAuthentication(tenant_id=tenant_id,  # tenantID\n",
    "                                             service_principal_id=client_id,  # clientId\n",
    "                                             service_principal_password=client_secret)  # clientSecret\n",
    "\n",
    "    workspace_name = os.environ.get(\"WORKSPACE_NAME\")\n",
    "    resource_group = os.environ.get(\"RESOURCE_GROUP\")\n",
    "    subscription_id = os.environ.get(\"SUBSCRIPTION_ID\")\n",
    "\n",
    "    return Workspace.get(\n",
    "        name=workspace_name,\n",
    "        subscription_id=subscription_id,\n",
    "        resource_group=resource_group,\n",
    "        auth=spa\n",
    "    )"
   ]
  },
  {
   "cell_type": "code",
   "execution_count": 6,
   "metadata": {},
   "outputs": [
    {
     "name": "stderr",
     "output_type": "stream",
     "text": [
      "The default web browser has been opened at https://login.microsoftonline.com/organizations/oauth2/v2.0/authorize. Please continue the login in the web browser. If no web browser is available or if the web browser fails to open, use device code flow with `az login --use-device-code`.\n"
     ]
    },
    {
     "name": "stdout",
     "output_type": "stream",
     "text": [
      "Performing interactive authentication. Please follow the instructions on the terminal.\n",
      "Interactive authentication successfully completed.\n"
     ]
    }
   ],
   "source": [
    "ws = Workspace.get(\n",
    "        name=\"amldaandewilde\",\n",
    "        subscription_id=\"7c50f9c3-289b-4ae0-a075-08784b3b9042\",\n",
    "        resource_group=\"NathanReserve\",\n",
    "    )"
   ]
  },
  {
   "cell_type": "code",
   "execution_count": 8,
   "metadata": {},
   "outputs": [
    {
     "data": {
      "text/plain": [
       "Workspace.create(name='amldaandewilde', subscription_id='7c50f9c3-289b-4ae0-a075-08784b3b9042', resource_group='NathanReserve')"
      ]
     },
     "execution_count": 8,
     "metadata": {},
     "output_type": "execute_result"
    }
   ],
   "source": [
    "ws"
   ]
  },
  {
   "cell_type": "code",
   "execution_count": 11,
   "metadata": {},
   "outputs": [],
   "source": [
    "exp = Experiment(workspace=ws, name=\"Malaria-Classification\")"
   ]
  },
  {
   "cell_type": "code",
   "execution_count": 13,
   "metadata": {},
   "outputs": [],
   "source": [
    "run = Run(exp, \"Malaria-Classification_1670513177_757f1755\")"
   ]
  },
  {
   "cell_type": "code",
   "execution_count": 16,
   "metadata": {},
   "outputs": [
    {
     "ename": "KeyboardInterrupt",
     "evalue": "",
     "output_type": "error",
     "traceback": [
      "\u001b[1;31m---------------------------------------------------------------------------\u001b[0m",
      "\u001b[1;31mKeyboardInterrupt\u001b[0m                         Traceback (most recent call last)",
      "\u001b[1;32mc:\\School\\MLOps\\EindopdrachtMLOps-MCTS5\\notebooks\\notebook.ipynb Cell 7\u001b[0m in \u001b[0;36m<cell line: 1>\u001b[1;34m()\u001b[0m\n\u001b[1;32m----> <a href='vscode-notebook-cell:/c%3A/School/MLOps/EindopdrachtMLOps-MCTS5/notebooks/notebook.ipynb#W4sZmlsZQ%3D%3D?line=0'>1</a>\u001b[0m run\u001b[39m.\u001b[39;49mdownload_files(prefix\u001b[39m=\u001b[39;49m\u001b[39m'\u001b[39;49m\u001b[39moutputs/malaria-cnn\u001b[39;49m\u001b[39m'\u001b[39;49m)\n",
      "File \u001b[1;32mc:\\Users\\daand\\anaconda3\\envs\\BackupEnv\\lib\\site-packages\\azureml\\core\\run.py:53\u001b[0m, in \u001b[0;36m_check_for_data_container_id.<locals>.wrapped\u001b[1;34m(self, *args, **kwargs)\u001b[0m\n\u001b[0;32m     49\u001b[0m \u001b[39mif\u001b[39;00m \u001b[39mself\u001b[39m\u001b[39m.\u001b[39m_container \u001b[39mis\u001b[39;00m \u001b[39mNone\u001b[39;00m:\n\u001b[0;32m     50\u001b[0m     \u001b[39mraise\u001b[39;00m UserErrorException(\u001b[39m\"\u001b[39m\u001b[39m{}\u001b[39;00m\u001b[39m doesn\u001b[39m\u001b[39m'\u001b[39m\u001b[39mt have a data container associated with it yet - \u001b[39m\u001b[39m\"\u001b[39m\n\u001b[0;32m     51\u001b[0m                              \u001b[39m\"\u001b[39m\u001b[39mtherefore, the \u001b[39m\u001b[39m{}\u001b[39;00m\u001b[39m cannot upload files, or log file backed metrics.\u001b[39m\u001b[39m\"\u001b[39m\n\u001b[0;32m     52\u001b[0m                              \u001b[39m.\u001b[39mformat(\u001b[39mself\u001b[39m, \u001b[39mself\u001b[39m\u001b[39m.\u001b[39m\u001b[39m__class__\u001b[39m\u001b[39m.\u001b[39m\u001b[39m__name__\u001b[39m))\n\u001b[1;32m---> 53\u001b[0m \u001b[39mreturn\u001b[39;00m func(\u001b[39mself\u001b[39;49m, \u001b[39m*\u001b[39;49margs, \u001b[39m*\u001b[39;49m\u001b[39m*\u001b[39;49mkwargs)\n",
      "File \u001b[1;32mc:\\Users\\daand\\anaconda3\\envs\\BackupEnv\\lib\\site-packages\\azureml\\core\\run.py:2173\u001b[0m, in \u001b[0;36mRun.download_files\u001b[1;34m(self, prefix, output_directory, output_paths, batch_size, append_prefix, timeout_seconds)\u001b[0m\n\u001b[0;32m   2148\u001b[0m \u001b[39m@_check_for_data_container_id\u001b[39m\n\u001b[0;32m   2149\u001b[0m \u001b[39mdef\u001b[39;00m \u001b[39mdownload_files\u001b[39m(\u001b[39mself\u001b[39m,\n\u001b[0;32m   2150\u001b[0m                    prefix\u001b[39m=\u001b[39m\u001b[39mNone\u001b[39;00m,\n\u001b[1;32m   (...)\u001b[0m\n\u001b[0;32m   2154\u001b[0m                    append_prefix\u001b[39m=\u001b[39m\u001b[39mTrue\u001b[39;00m,\n\u001b[0;32m   2155\u001b[0m                    timeout_seconds\u001b[39m=\u001b[39m\u001b[39mNone\u001b[39;00m):\n\u001b[0;32m   2156\u001b[0m     \u001b[39m\"\"\"Download files from a given storage prefix (folder name) or the entire container if prefix is unspecified.\u001b[39;00m\n\u001b[0;32m   2157\u001b[0m \n\u001b[0;32m   2158\u001b[0m \u001b[39m    :param prefix: The filepath prefix within the container from which to download all artifacts.\u001b[39;00m\n\u001b[1;32m   (...)\u001b[0m\n\u001b[0;32m   2171\u001b[0m \u001b[39m    :type timeout_seconds: int\u001b[39;00m\n\u001b[0;32m   2172\u001b[0m \u001b[39m    \"\"\"\u001b[39;00m\n\u001b[1;32m-> 2173\u001b[0m     \u001b[39mself\u001b[39;49m\u001b[39m.\u001b[39;49m_client\u001b[39m.\u001b[39;49martifacts\u001b[39m.\u001b[39;49mdownload_artifacts_from_prefix(RUN_ORIGIN,\n\u001b[0;32m   2174\u001b[0m                                                           \u001b[39mself\u001b[39;49m\u001b[39m.\u001b[39;49m_container,\n\u001b[0;32m   2175\u001b[0m                                                           prefix\u001b[39m=\u001b[39;49mprefix,\n\u001b[0;32m   2176\u001b[0m                                                           output_directory\u001b[39m=\u001b[39;49moutput_directory,\n\u001b[0;32m   2177\u001b[0m                                                           output_paths\u001b[39m=\u001b[39;49moutput_paths,\n\u001b[0;32m   2178\u001b[0m                                                           batch_size\u001b[39m=\u001b[39;49mbatch_size,\n\u001b[0;32m   2179\u001b[0m                                                           append_prefix\u001b[39m=\u001b[39;49mappend_prefix,\n\u001b[0;32m   2180\u001b[0m                                                           fail_on_not_found\u001b[39m=\u001b[39;49m\u001b[39mTrue\u001b[39;49;00m,\n\u001b[0;32m   2181\u001b[0m                                                           timeout_seconds\u001b[39m=\u001b[39;49mtimeout_seconds)\n",
      "File \u001b[1;32mc:\\Users\\daand\\anaconda3\\envs\\BackupEnv\\lib\\site-packages\\azureml\\_restclient\\artifacts_client.py:348\u001b[0m, in \u001b[0;36mArtifactsClient.download_artifacts_from_prefix\u001b[1;34m(self, origin, container, prefix, output_directory, output_paths, batch_size, append_prefix, fail_on_not_found, timeout_seconds)\u001b[0m\n\u001b[0;32m    343\u001b[0m             \u001b[39mself\u001b[39m\u001b[39m.\u001b[39m_execute_func(\n\u001b[0;32m    344\u001b[0m                 download_file, url, output_file_path, session\u001b[39m=\u001b[39msession, fail_on_not_found\u001b[39m=\u001b[39mfail_on_not_found\n\u001b[0;32m    345\u001b[0m             )\n\u001b[0;32m    347\u001b[0m         \u001b[39mfor\u001b[39;00m url, output_path \u001b[39min\u001b[39;00m \u001b[39mzip\u001b[39m(batch_urls, batch_output_paths):\n\u001b[1;32m--> 348\u001b[0m             task_queue\u001b[39m.\u001b[39madd(perform_download_file, url, output_path, \u001b[39mself\u001b[39m\u001b[39m.\u001b[39msession)\n\u001b[0;32m    349\u001b[0m \u001b[39mexcept\u001b[39;00m AzureMLException \u001b[39mas\u001b[39;00m error:\n\u001b[0;32m    350\u001b[0m     \u001b[39mself\u001b[39m\u001b[39m.\u001b[39m_logger\u001b[39m.\u001b[39mdebug(\u001b[39m\"\u001b[39m\u001b[39mDownload of artifact batch \u001b[39m\u001b[39m{}\u001b[39;00m\u001b[39m failed with error: \u001b[39m\u001b[39m{}\u001b[39;00m\u001b[39m\"\u001b[39m\n\u001b[0;32m    351\u001b[0m                        \u001b[39m.\u001b[39mformat(\u001b[39mstr\u001b[39m(sas_urls[i: i \u001b[39m+\u001b[39m batch_size]), error))\n",
      "File \u001b[1;32mc:\\Users\\daand\\anaconda3\\envs\\BackupEnv\\lib\\site-packages\\azureml\\_common\\async_utils\\task_queue.py:55\u001b[0m, in \u001b[0;36mTaskQueue.__exit__\u001b[1;34m(self, *args)\u001b[0m\n\u001b[0;32m     53\u001b[0m \u001b[39mdef\u001b[39;00m \u001b[39m__exit__\u001b[39m(\u001b[39mself\u001b[39m, \u001b[39m*\u001b[39margs):\n\u001b[0;32m     54\u001b[0m     \u001b[39mself\u001b[39m\u001b[39m.\u001b[39m_logger\u001b[39m.\u001b[39mdebug(\u001b[39m\"\u001b[39m\u001b[39m[Stop] - waiting default timeout\u001b[39m\u001b[39m\"\u001b[39m)\n\u001b[1;32m---> 55\u001b[0m     \u001b[39mself\u001b[39;49m\u001b[39m.\u001b[39;49mflush(\u001b[39mself\u001b[39;49m\u001b[39m.\u001b[39;49midentity)\n",
      "File \u001b[1;32mc:\\Users\\daand\\anaconda3\\envs\\BackupEnv\\lib\\site-packages\\azureml\\_common\\async_utils\\task_queue.py:126\u001b[0m, in \u001b[0;36mTaskQueue.flush\u001b[1;34m(self, source, timeout_seconds)\u001b[0m\n\u001b[0;32m    122\u001b[0m             message \u001b[39m+\u001b[39m\u001b[39m=\u001b[39m \u001b[39m\"\u001b[39m\u001b[39mWaiting on task: \u001b[39m\u001b[39m{}\u001b[39;00m\u001b[39m.\u001b[39m\u001b[39m\\n\u001b[39;00m\u001b[39m\"\u001b[39m\u001b[39m.\u001b[39mformat(task\u001b[39m.\u001b[39mident)\n\u001b[0;32m    123\u001b[0m         message \u001b[39m+\u001b[39m\u001b[39m=\u001b[39m \u001b[39m\"\u001b[39m\u001b[39m{}\u001b[39;00m\u001b[39m tasks left. Current duration of flush \u001b[39m\u001b[39m{}\u001b[39;00m\u001b[39m seconds.\u001b[39m\u001b[39m\\n\u001b[39;00m\u001b[39m\"\u001b[39m\u001b[39m.\u001b[39mformat(\n\u001b[0;32m    124\u001b[0m             \u001b[39mlen\u001b[39m(tasks_to_wait), time\u001b[39m.\u001b[39mtime() \u001b[39m-\u001b[39m start_time)\n\u001b[1;32m--> 126\u001b[0m         time\u001b[39m.\u001b[39;49msleep(\u001b[39m.25\u001b[39;49m)\n\u001b[0;32m    128\u001b[0m \u001b[39mself\u001b[39m\u001b[39m.\u001b[39m_logger\u001b[39m.\u001b[39mdebug(message)\n\u001b[0;32m    130\u001b[0m \u001b[39m# Reach this case on timeout\u001b[39;00m\n",
      "\u001b[1;31mKeyboardInterrupt\u001b[0m: "
     ]
    }
   ],
   "source": [
    "run.download_files(prefix='outputs/malaria-cnn')"
   ]
  },
  {
   "cell_type": "code",
   "execution_count": null,
   "metadata": {},
   "outputs": [],
   "source": []
  }
 ],
 "metadata": {
  "kernelspec": {
   "display_name": "BackupEnv",
   "language": "python",
   "name": "python3"
  },
  "language_info": {
   "codemirror_mode": {
    "name": "ipython",
    "version": 3
   },
   "file_extension": ".py",
   "mimetype": "text/x-python",
   "name": "python",
   "nbconvert_exporter": "python",
   "pygments_lexer": "ipython3",
   "version": "3.8.12"
  },
  "orig_nbformat": 4,
  "vscode": {
   "interpreter": {
    "hash": "3fade973f66baa686d569cf47bdc2cc35d52ad73b57aef8d3c79685f5ca7058a"
   }
  }
 },
 "nbformat": 4,
 "nbformat_minor": 2
}
